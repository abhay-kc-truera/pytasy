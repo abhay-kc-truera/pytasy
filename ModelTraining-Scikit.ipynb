{
 "cells": [
  {
   "cell_type": "code",
   "execution_count": null,
   "id": "5b5b42eb",
   "metadata": {},
   "outputs": [],
   "source": [
    "from pyspark.sql import SparkSession\n",
    "from pyspark.sql import functions as f\n",
    "\n",
    "\n",
    "spark = SparkSession.builder.appName('SparkByExamples.com')\\\n",
    "    .config('spark.driver.bindAddress','localhost')\\\n",
    "    .config(\"spark.ui.port\",\"4051\")\\\n",
    "    .config(\"spark.driver.memory\",\"5g\")\\\n",
    "    .getOrCreate()\n"
   ]
  },
  {
   "cell_type": "code",
   "execution_count": null,
   "id": "d6b7c998",
   "metadata": {},
   "outputs": [],
   "source": [
    "features = [\n",
    "     'batter_runs_30D',\n",
    "     'batter_runs_90D',\n",
    "     'batter_runs_300D',\n",
    "     'batter_runs_1000D',\n",
    "     'batter_runs_1000D_venue',\n",
    "     'balls_faced_30D',\n",
    "     'balls_faced_90D',\n",
    "     'balls_faced_300D',\n",
    "     'balls_faced_1000D',\n",
    "     'balls_faced_1000D_venue',\n",
    "     'dismissals_30D',\n",
    "     'dismissals_90D',\n",
    "     'dismissals_300D',\n",
    "     'dismissals_1000D',\n",
    "     'dismissals_1000D_venue',\n",
    "     'boundary_count_30D',\n",
    "     'boundary_count_90D',\n",
    "     'boundary_count_300D',\n",
    "     'boundary_count_1000D',\n",
    "     'boundary_count_1000D_venue',\n",
    "     'six_count_30D',\n",
    "     'six_count_90D',\n",
    "     'six_count_300D',\n",
    "     'six_count_1000D',\n",
    "     'six_count_1000D_venue',\n",
    "     'batting_avg_30D',\n",
    "     'batting_avg_90D',\n",
    "     'batting_avg_300D',\n",
    "     'batting_avg_1000D',\n",
    "     'batting_avg_1000D_venue',\n",
    "     'batting_sr_30D',\n",
    "     'batting_sr_90D',\n",
    "     'batting_sr_300D',\n",
    "     'batting_sr_1000D',\n",
    "     'batting_sr_1000D_venue',\n",
    "     'total_runs_30D',\n",
    "     'total_runs_90D',\n",
    "     'total_runs_300D',\n",
    "     'total_runs_1000D',\n",
    "     'total_runs_1000D_venue',\n",
    "     'deliveries_30D',\n",
    "     'deliveries_90D',\n",
    "     'deliveries_300D',\n",
    "     'deliveries_1000D',\n",
    "     'deliveries_1000D_venue',\n",
    "     'wicket_sum_30D',\n",
    "     'wicket_sum_90D',\n",
    "     'wicket_sum_300D',\n",
    "     'wicket_sum_1000D',\n",
    "     'wicket_sum_1000D_venue',\n",
    "     'maiden_count_30D',\n",
    "     'maiden_count_90D',\n",
    "     'maiden_count_300D',\n",
    "     'maiden_count_1000D',\n",
    "     'maiden_count_1000D_venue',\n",
    "     'bowling_avg_30D',\n",
    "     'bowling_avg_90D',\n",
    "     'bowling_avg_300D',\n",
    "     'bowling_avg_1000D',\n",
    "     'bowling_avg_1000D_venue',\n",
    "     'bowling_sr_30D',\n",
    "     'bowling_sr_90D',\n",
    "     'bowling_sr_300D',\n",
    "     'bowling_sr_1000D',\n",
    "     'bowling_sr_1000D_venue',\n",
    "     'bowling_eco_30D',\n",
    "     'bowling_eco_90D',\n",
    "     'bowling_eco_300D',\n",
    "     'bowling_eco_1000D',\n",
    "     'bowling_eco_1000D_venue'\n",
    "]"
   ]
  },
  {
   "cell_type": "code",
   "execution_count": null,
   "id": "cda017ea",
   "metadata": {},
   "outputs": [],
   "source": [
    "train_df = spark.read.parquet(\"/home/abhay/work/dream11/model_data/model_inputs/train\").select(features + [\"fantasy_points\"]).toPandas()\n",
    "test_df = spark.read.parquet(\"/home/abhay/work/dream11/model_data/model_inputs/test\").select(features + [\"fantasy_points\"]).toPandas()"
   ]
  },
  {
   "cell_type": "code",
   "execution_count": null,
   "id": "2b1b870a",
   "metadata": {},
   "outputs": [],
   "source": [
    "from sklearn.ensemble import GradientBoostingRegressor\n",
    "reg = GradientBoostingRegressor(random_state=0)\n",
    "reg.fit(train_df[features], train_df['fantasy_points'])"
   ]
  }
 ],
 "metadata": {
  "kernelspec": {
   "display_name": "Python 3 (ipykernel)",
   "language": "python",
   "name": "python3"
  },
  "language_info": {
   "codemirror_mode": {
    "name": "ipython",
    "version": 3
   },
   "file_extension": ".py",
   "mimetype": "text/x-python",
   "name": "python",
   "nbconvert_exporter": "python",
   "pygments_lexer": "ipython3",
   "version": "3.9.16"
  }
 },
 "nbformat": 4,
 "nbformat_minor": 5
}
