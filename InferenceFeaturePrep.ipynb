{
 "cells": [
  {
   "cell_type": "code",
   "execution_count": 1,
   "id": "99b3a150",
   "metadata": {},
   "outputs": [
    {
     "name": "stderr",
     "output_type": "stream",
     "text": [
      "23/02/18 19:10:29 WARN Utils: Your hostname, Chaturvedi_PC resolves to a loopback address: 127.0.1.1; using 172.28.53.96 instead (on interface eth0)\n",
      "23/02/18 19:10:29 WARN Utils: Set SPARK_LOCAL_IP if you need to bind to another address\n",
      "23/02/18 19:10:31 WARN NativeCodeLoader: Unable to load native-hadoop library for your platform... using builtin-java classes where applicable\n",
      "Using Spark's default log4j profile: org/apache/spark/log4j-defaults.properties\n",
      "Setting default log level to \"WARN\".\n",
      "To adjust logging level use sc.setLogLevel(newLevel). For SparkR, use setLogLevel(newLevel).\n"
     ]
    }
   ],
   "source": [
    "from etl.spark.spark_session_helper import spark"
   ]
  },
  {
   "cell_type": "code",
   "execution_count": 2,
   "id": "bbb1c56d",
   "metadata": {},
   "outputs": [
    {
     "name": "stdout",
     "output_type": "stream",
     "text": [
      "/home/abhay/work/dream11\n"
     ]
    }
   ],
   "source": [
    "from path_manager import intermediate_data_all_train_rows_path"
   ]
  },
  {
   "cell_type": "code",
   "execution_count": 24,
   "id": "be399a00",
   "metadata": {},
   "outputs": [
    {
     "name": "stderr",
     "output_type": "stream",
     "text": [
      "                                                                                \r"
     ]
    }
   ],
   "source": [
    "all_player_rows_df = spark.read.parquet(intermediate_data_all_train_rows_path)\n",
    "all_player_rows_df.registerTempTable(\"all_player_rows\")"
   ]
  },
  {
   "cell_type": "code",
   "execution_count": 19,
   "id": "c5de41ab",
   "metadata": {},
   "outputs": [
    {
     "name": "stderr",
     "output_type": "stream",
     "text": [
      "                                                                                \r"
     ]
    },
    {
     "data": {
      "text/html": [
       "<div>\n",
       "<style scoped>\n",
       "    .dataframe tbody tr th:only-of-type {\n",
       "        vertical-align: middle;\n",
       "    }\n",
       "\n",
       "    .dataframe tbody tr th {\n",
       "        vertical-align: top;\n",
       "    }\n",
       "\n",
       "    .dataframe thead th {\n",
       "        text-align: right;\n",
       "    }\n",
       "</style>\n",
       "<table border=\"1\" class=\"dataframe\">\n",
       "  <thead>\n",
       "    <tr style=\"text-align: right;\">\n",
       "      <th></th>\n",
       "      <th>venue_name</th>\n",
       "    </tr>\n",
       "  </thead>\n",
       "  <tbody>\n",
       "    <tr>\n",
       "      <th>0</th>\n",
       "      <td>St George's Park, Port Elizabeth</td>\n",
       "    </tr>\n",
       "    <tr>\n",
       "      <th>1</th>\n",
       "      <td>National Cricket Stadium, St George's, Grenada</td>\n",
       "    </tr>\n",
       "    <tr>\n",
       "      <th>2</th>\n",
       "      <td>St George's Park, Gqeberha</td>\n",
       "    </tr>\n",
       "  </tbody>\n",
       "</table>\n",
       "</div>"
      ],
      "text/plain": [
       "                                       venue_name\n",
       "0                St George's Park, Port Elizabeth\n",
       "1  National Cricket Stadium, St George's, Grenada\n",
       "2                      St George's Park, Gqeberha"
      ]
     },
     "execution_count": 19,
     "metadata": {},
     "output_type": "execute_result"
    }
   ],
   "source": [
    "spark.sql(\"\"\"\n",
    "    select distinct(venue_name) from all_player_rows where \n",
    "    dt>date_sub(current_timestamp(), 1000)\n",
    "    and lower(venue_name) like '%george%'\n",
    "\"\"\").limit(30).toPandas()"
   ]
  },
  {
   "cell_type": "code",
   "execution_count": 80,
   "id": "2eef2d99",
   "metadata": {},
   "outputs": [],
   "source": [
    "from string import Template\n",
    "feature_query_template = Template(\"\"\"\n",
    "select \n",
    "    player_id, '$venue_name' as venue_name,\n",
    "    \n",
    "    sum(case when dt>date_sub(current_timestamp(), 1000) then batter_run_sum else 0 end) as batter_runs_1000D,\n",
    "    sum(case when dt>date_sub(current_timestamp(), 1000) and venue_name='$venue_name' then batter_run_sum else 0 end) as batter_runs_1000D_venue,\n",
    "    sum(case when dt>date_sub(current_timestamp(), 1000) then balls_faced else 0 end) as balls_faced_1000D,\n",
    "    sum(case when dt>date_sub(current_timestamp(), 1000) and venue_name='$venue_name' then balls_faced else 0 end) as balls_faced_1000D_venue,\n",
    "    sum(case when dt>date_sub(current_timestamp(), 1000) then dismissals else 0 end) as dismissals_1000D,\n",
    "    sum(case when dt>date_sub(current_timestamp(), 1000) and venue_name='$venue_name' then dismissals else 0 end) as dismissals_1000D_venue,\n",
    "    sum(case when dt>date_sub(current_timestamp(), 1000) then boundary_count else 0 end) as boundary_count_1000D,\n",
    "    sum(case when dt>date_sub(current_timestamp(), 1000) and venue_name='$venue_name' then boundary_count else 0 end) as boundary_count_1000D_venue,\n",
    "    sum(case when dt>date_sub(current_timestamp(), 1000) then six_count else 0 end) as six_count_1000D,\n",
    "    sum(case when dt>date_sub(current_timestamp(), 1000) and venue_name='$venue_name' then six_count else 0 end) as six_count_1000D_venue,\n",
    "    \n",
    "    sum(case when dt>date_sub(current_timestamp(), 300) then batter_run_sum else 0 end) as batter_runs_300D,\n",
    "    sum(case when dt>date_sub(current_timestamp(), 300) and venue_name='$venue_name' then batter_run_sum else 0 end) as batter_runs_300D_venue,\n",
    "    sum(case when dt>date_sub(current_timestamp(), 300) then balls_faced else 0 end) as balls_faced_300D,\n",
    "    sum(case when dt>date_sub(current_timestamp(), 300) then dismissals else 0 end) as dismissals_300D,\n",
    "    sum(case when dt>date_sub(current_timestamp(), 300) then boundary_count else 0 end) as boundary_count_300D,\n",
    "    sum(case when dt>date_sub(current_timestamp(), 300) then six_count else 0 end) as six_count_300D,\n",
    "    \n",
    "    sum(case when dt>date_sub(current_timestamp(), 90) then batter_run_sum else 0 end) as batter_runs_90D,\n",
    "    sum(case when dt>date_sub(current_timestamp(), 90) and venue_name='$venue_name' then batter_run_sum else 0 end) as batter_runs_90D_venue,\n",
    "    sum(case when dt>date_sub(current_timestamp(), 90) then balls_faced else 0 end) as balls_faced_90D,\n",
    "    sum(case when dt>date_sub(current_timestamp(), 90) then dismissals else 0 end) as dismissals_90D,\n",
    "    sum(case when dt>date_sub(current_timestamp(), 90) then boundary_count else 0 end) as boundary_count_90D,\n",
    "    sum(case when dt>date_sub(current_timestamp(), 90) then six_count else 0 end) as six_count_90D,\n",
    "    \n",
    "    sum(case when dt>date_sub(current_timestamp(), 30) then batter_run_sum else 0 end) as batter_runs_30D,\n",
    "    sum(case when dt>date_sub(current_timestamp(), 30) and venue_name='$venue_name' then batter_run_sum else 0 end) as batter_runs_30D_venue,\n",
    "    sum(case when dt>date_sub(current_timestamp(), 30) then balls_faced else 0 end) as balls_faced_30D,\n",
    "    sum(case when dt>date_sub(current_timestamp(), 30) then dismissals else 0 end) as dismissals_30D,\n",
    "    sum(case when dt>date_sub(current_timestamp(), 30) then boundary_count else 0 end) as boundary_count_30D,\n",
    "    sum(case when dt>date_sub(current_timestamp(), 30) then six_count else 0 end) as six_count_30D,\n",
    "    \n",
    "    sum(case when dt>date_sub(current_timestamp(), 1000) then total_run_sum else 0 end) as total_runs_1000D,\n",
    "    sum(case when dt>date_sub(current_timestamp(), 1000) and venue_name='$venue_name' then total_run_sum else 0 end) as total_runs_1000D_venue,\n",
    "    sum(case when dt>date_sub(current_timestamp(), 1000) then deliveries else 0 end) as deliveries_1000D,\n",
    "    sum(case when dt>date_sub(current_timestamp(), 1000) and venue_name='$venue_name' then deliveries else 0 end) as deliveries_1000D_venue,\n",
    "    sum(case when dt>date_sub(current_timestamp(), 1000) then wicket_sum else 0 end) as wicket_sum_1000D,\n",
    "    sum(case when dt>date_sub(current_timestamp(), 1000) and venue_name='$venue_name' then wicket_sum else 0 end) as wicket_sum_1000D_venue,\n",
    "    sum(case when dt>date_sub(current_timestamp(), 1000) then maiden_count else 0 end) as maiden_count_1000D,\n",
    "    sum(case when dt>date_sub(current_timestamp(), 1000) and venue_name='$venue_name' then maiden_count else 0 end) as maiden_count_1000D_venue,\n",
    "    \n",
    "    sum(case when dt>date_sub(current_timestamp(), 300) then total_run_sum else 0 end) as total_runs_300D,    \n",
    "    sum(case when dt>date_sub(current_timestamp(), 300) then deliveries else 0 end) as deliveries_300D,\n",
    "    sum(case when dt>date_sub(current_timestamp(), 300) then wicket_sum else 0 end) as wicket_sum_300D,\n",
    "    sum(case when dt>date_sub(current_timestamp(), 300) then maiden_count else 0 end) as maiden_count_300D,\n",
    "    \n",
    "    sum(case when dt>date_sub(current_timestamp(), 90) then total_run_sum else 0 end) as total_runs_90D,    \n",
    "    sum(case when dt>date_sub(current_timestamp(), 90) then deliveries else 0 end) as deliveries_90D,\n",
    "    sum(case when dt>date_sub(current_timestamp(), 90) then wicket_sum else 0 end) as wicket_sum_90D,\n",
    "    sum(case when dt>date_sub(current_timestamp(), 90) then maiden_count else 0 end) as maiden_count_90D,\n",
    "    \n",
    "    sum(case when dt>date_sub(current_timestamp(), 30) then total_run_sum else 0 end) as total_runs_30D,    \n",
    "    sum(case when dt>date_sub(current_timestamp(), 30) then deliveries else 0 end) as deliveries_30D,\n",
    "    sum(case when dt>date_sub(current_timestamp(), 30) then wicket_sum else 0 end) as wicket_sum_30D,\n",
    "    sum(case when dt>date_sub(current_timestamp(), 30) then maiden_count else 0 end) as maiden_count_30D,\n",
    "    \n",
    "    \n",
    "    sum(case when dt>date_sub(current_timestamp(), 1000) then fielding_wicket_sum else 0 end) as fielding_wicket_sum_1000D,\n",
    "    sum(case when dt>date_sub(current_timestamp(), 30) then fielding_wicket_sum else 0 end) as fielding_wicket_sum_30D\n",
    "            \n",
    "    from all_player_rows\n",
    "    group by player_id\n",
    "\"\"\")\n",
    "feature_df = spark.sql(feature_query_template.substitute(venue_name=\"St George\\\\'s Park, Gqeberha\"))"
   ]
  },
  {
   "cell_type": "code",
   "execution_count": 81,
   "id": "05ac1a01",
   "metadata": {},
   "outputs": [],
   "source": [
    "from pyspark.sql import functions as f\n",
    "feature_df_with_bat_avg = feature_df\\\n",
    "        .withColumn(\"batting_avg_30D\", f.when(f.col(\"dismissals_30D\") > 0, f.col(\"batter_runs_30D\")/f.col(\"dismissals_30D\")).otherwise(f.col(\"batter_runs_30D\"))) \\\n",
    "        .withColumn(\"batting_avg_90D\", f.when(f.col(\"dismissals_90D\") > 0, f.col(\"batter_runs_90D\")/f.col(\"dismissals_90D\")).otherwise(f.col(\"batter_runs_90D\"))) \\\n",
    "        .withColumn(\"batting_avg_300D\", f.when(f.col(\"dismissals_300D\") > 0, f.col(\"batter_runs_300D\")/f.col(\"dismissals_300D\")).otherwise(f.col(\"batter_runs_300D\"))) \\\n",
    "        .withColumn(\"batting_avg_1000D\", f.when(f.col(\"dismissals_1000D\") > 0, f.col(\"batter_runs_1000D\")/f.col(\"dismissals_1000D\")).otherwise(f.col(\"batter_runs_1000D\"))) \\\n",
    "        .withColumn(\"batting_avg_1000D_venue\", f.when(f.col(\"dismissals_1000D_venue\") > 0, f.col(\"batter_runs_1000D_venue\")/f.col(\"dismissals_1000D_venue\")).otherwise(f.col(\"batter_runs_1000D_venue\")))\n",
    "\n",
    "feature_df_with_bat_avg_sr = feature_df_with_bat_avg\\\n",
    "    .withColumn(\"batting_sr_30D\", f.when(f.col(\"balls_faced_30D\") > 0, f.col(\"batter_runs_30D\")/f.col(\"balls_faced_30D\")).otherwise(f.col(\"batter_runs_30D\"))) \\\n",
    "    .withColumn(\"batting_sr_90D\", f.when(f.col(\"balls_faced_90D\") > 0, f.col(\"batter_runs_90D\")/f.col(\"balls_faced_90D\")).otherwise(f.col(\"batter_runs_90D\"))) \\\n",
    "    .withColumn(\"batting_sr_300D\", f.when(f.col(\"balls_faced_300D\") > 0, f.col(\"batter_runs_300D\")/f.col(\"balls_faced_300D\")).otherwise(f.col(\"batter_runs_300D\"))) \\\n",
    "    .withColumn(\"batting_sr_1000D\", f.when(f.col(\"balls_faced_1000D\") > 0, f.col(\"batter_runs_1000D\")/f.col(\"balls_faced_1000D\")).otherwise(f.col(\"batter_runs_1000D\"))) \\\n",
    "    .withColumn(\"batting_sr_1000D_venue\", f.when(f.col(\"balls_faced_1000D_venue\") > 0, f.col(\"batter_runs_1000D_venue\")/f.col(\"balls_faced_1000D_venue\")).otherwise(f.col(\"batter_runs_1000D_venue\")))\n",
    "\n",
    "feature_df_with_bat_avg_sr_bowl_avg = feature_df_with_bat_avg_sr\\\n",
    "        .withColumn(\"bowling_avg_30D\", f.when(f.col(\"wicket_sum_30D\") > 0, f.col(\"total_runs_30D\")/f.col(\"wicket_sum_30D\")).otherwise(f.col(\"total_runs_30D\"))) \\\n",
    "        .withColumn(\"bowling_avg_90D\", f.when(f.col(\"wicket_sum_90D\") > 0, f.col(\"total_runs_90D\")/f.col(\"wicket_sum_90D\")).otherwise(f.col(\"total_runs_90D\"))) \\\n",
    "        .withColumn(\"bowling_avg_300D\", f.when(f.col(\"wicket_sum_300D\") > 0, f.col(\"total_runs_300D\")/f.col(\"wicket_sum_300D\")).otherwise(f.col(\"total_runs_300D\"))) \\\n",
    "        .withColumn(\"bowling_avg_1000D\", f.when(f.col(\"wicket_sum_1000D\") > 0, f.col(\"total_runs_1000D\")/f.col(\"wicket_sum_1000D\")).otherwise(f.col(\"total_runs_1000D\"))) \\\n",
    "        .withColumn(\"bowling_avg_1000D_venue\", f.when(f.col(\"wicket_sum_1000D_venue\") > 0, f.col(\"total_runs_1000D_venue\")/f.col(\"wicket_sum_1000D_venue\")).otherwise(f.col(\"total_runs_1000D_venue\")))\n",
    "\n",
    "feature_df_with_bat_avg_sr_bowl_avg_sr = feature_df_with_bat_avg_sr_bowl_avg\\\n",
    "    .withColumn(\"bowling_sr_30D\", f.when(f.col(\"wicket_sum_30D\") > 0, f.col(\"deliveries_30D\")/f.col(\"wicket_sum_30D\")).otherwise(f.col(\"deliveries_30D\"))) \\\n",
    "    .withColumn(\"bowling_sr_90D\", f.when(f.col(\"wicket_sum_90D\") > 0, f.col(\"deliveries_90D\")/f.col(\"wicket_sum_90D\")).otherwise(f.col(\"deliveries_90D\"))) \\\n",
    "    .withColumn(\"bowling_sr_300D\", f.when(f.col(\"wicket_sum_300D\") > 0, f.col(\"deliveries_300D\")/f.col(\"wicket_sum_300D\")).otherwise(f.col(\"deliveries_300D\"))) \\\n",
    "    .withColumn(\"bowling_sr_1000D\", f.when(f.col(\"wicket_sum_1000D\") > 0, f.col(\"deliveries_1000D\")/f.col(\"wicket_sum_1000D\")).otherwise(f.col(\"deliveries_1000D\"))) \\\n",
    "    .withColumn(\"bowling_sr_1000D_venue\", f.when(f.col(\"wicket_sum_1000D_venue\") > 0, f.col(\"deliveries_1000D_venue\")/f.col(\"wicket_sum_1000D_venue\")).otherwise(f.col(\"deliveries_1000D_venue\")))\n",
    "\n",
    "all_features_df = feature_df_with_bat_avg_sr_bowl_avg_sr\\\n",
    "    .withColumn(\"bowling_eco_30D\", f.when(f.col(\"deliveries_30D\") > 0, f.col(\"total_runs_30D\") * 6.0/f.col(\"deliveries_30D\")).otherwise(f.col(\"total_runs_30D\") * 6.0)) \\\n",
    "    .withColumn(\"bowling_eco_90D\", f.when(f.col(\"deliveries_90D\") > 0, f.col(\"total_runs_90D\") * 6.0/f.col(\"deliveries_90D\")).otherwise(f.col(\"total_runs_90D\") * 6.0)) \\\n",
    "    .withColumn(\"bowling_eco_300D\", f.when(f.col(\"deliveries_300D\") > 0, f.col(\"total_runs_300D\") * 6.0/f.col(\"deliveries_300D\")).otherwise(f.col(\"total_runs_300D\") * 6.0)) \\\n",
    "    .withColumn(\"bowling_eco_1000D\", f.when(f.col(\"deliveries_1000D\") > 0, f.col(\"total_runs_1000D\") * 6.0/f.col(\"deliveries_1000D\")).otherwise(f.col(\"total_runs_1000D\") * 6.0)) \\\n",
    "    .withColumn(\"bowling_eco_1000D_venue\", f.when(f.col(\"deliveries_1000D_venue\") > 0, f.col(\"total_runs_1000D_venue\") * 6.0/f.col(\"deliveries_1000D_venue\")).otherwise(f.col(\"total_runs_1000D_venue\") * 6.0))\n",
    "\n"
   ]
  },
  {
   "cell_type": "code",
   "execution_count": 84,
   "id": "0173585f",
   "metadata": {},
   "outputs": [],
   "source": [
    "player_last_names = [\n",
    "    \"healy\",\n",
    "    \"mooney\",\n",
    "    \"jafta\",\n",
    "    \"tucker\",\n",
    "    \"lanning\",\n",
    "    \"wolvaardt\",\n",
    "    \"luus\",\n",
    "    \"mcgrath\",\n",
    "    \"bosch\",\n",
    "    \"harris\",\n",
    "    \"goodall\",\n",
    "    \"brits\",\n",
    "    \"dercksen\",\n",
    "    \"macheke\",\n",
    "    \"perry\",\n",
    "    \"kapp\",\n",
    "    \"gardner\",\n",
    "    \"klerk\",\n",
    "    \"tryon\",\n",
    "    \"sutherland\",\n",
    "    \"garth\",\n",
    "    \"andrews\",\n",
    "    \"schutt\",\n",
    "    \"jonassen\",\n",
    "    \"ismail\",\n",
    "    \"klaas\",\n",
    "    \"king\",\n",
    "    \"brown\",\n",
    "    \"khaka\",\n",
    "    \"wareham\",\n",
    "    \"mlaba\",\n",
    "    \"graham\",\n",
    "    \"sekhumkhune\"\n",
    "]"
   ]
  },
  {
   "cell_type": "code",
   "execution_count": 86,
   "id": "a5feb17d",
   "metadata": {},
   "outputs": [
    {
     "name": "stderr",
     "output_type": "stream",
     "text": [
      "                                                                                \r"
     ]
    },
    {
     "data": {
      "text/plain": [
       "71"
      ]
     },
     "execution_count": 86,
     "metadata": {},
     "output_type": "execute_result"
    }
   ],
   "source": [
    "all_players_df = spark.read.csv(\"downloads/people.csv\", header=True)\n",
    "all_players_df.registerTempTable(\"all_players\")\n",
    "all_players_df.toPandas()\n",
    "\n",
    "from string import Template\n",
    "name_predicates = []\n",
    "name_clause_template = Template(\"lower(reverse(split(unique_name,' '))[0]) = '$player_name'\")\n",
    "for name in player_last_names:\n",
    "    name_predicates.append(name_clause_template.substitute(player_name=name))\n",
    "name_clause = \" OR \".join(name_predicates)\n",
    "player_id_names_df = spark.sql(\"select identifier, unique_name from all_players where %s\"%name_clause)\n",
    "\n",
    "player_features_df = all_features_df.join(\n",
    "    player_id_names_df,\n",
    "    all_features_df.player_id ==  player_id_names_df.identifier,\"inner\" )\n",
    "player_features_df.count()"
   ]
  },
  {
   "cell_type": "code",
   "execution_count": 87,
   "id": "6c559af4",
   "metadata": {},
   "outputs": [],
   "source": [
    "from pyspark.ml.feature import VectorAssembler\n",
    "from pyspark.ml.regression import GBTRegressor ,GBTRegressionModel\n",
    "from path_manager import model_train_input_path, model_test_input_path, model_train_predictions_path, model_test_predictions_path, model_save_artifact_path\n",
    "from model_trainer import features"
   ]
  },
  {
   "cell_type": "code",
   "execution_count": 88,
   "id": "006659e6",
   "metadata": {},
   "outputs": [],
   "source": [
    "loaded_gbtr = GBTRegressionModel.load(model_save_artifact_path)"
   ]
  },
  {
   "cell_type": "code",
   "execution_count": 89,
   "id": "000a7ed8",
   "metadata": {},
   "outputs": [],
   "source": [
    "va = VectorAssembler(inputCols = features, outputCol='features')"
   ]
  },
  {
   "cell_type": "code",
   "execution_count": 90,
   "id": "b5483cca",
   "metadata": {},
   "outputs": [],
   "source": [
    "va_inference_df = va.transform(player_features_df)"
   ]
  },
  {
   "cell_type": "code",
   "execution_count": 91,
   "id": "36808f09",
   "metadata": {},
   "outputs": [],
   "source": [
    "inference_predictions_df = loaded_gbtr.transform(va_inference_df)"
   ]
  },
  {
   "cell_type": "code",
   "execution_count": 92,
   "id": "011ed694",
   "metadata": {},
   "outputs": [
    {
     "name": "stderr",
     "output_type": "stream",
     "text": [
      "                                                                                \r"
     ]
    },
    {
     "name": "stdout",
     "output_type": "stream",
     "text": [
      "+---------+--------------------+-----------------+-----------------------+-----------------+-----------------------+----------------+----------------------+--------------------+--------------------------+---------------+---------------------+----------------+----------------------+----------------+---------------+-------------------+--------------+---------------+---------------------+---------------+--------------+------------------+-------------+---------------+---------------------+---------------+--------------+------------------+-------------+----------------+----------------------+----------------+----------------------+----------------+----------------------+------------------+------------------------+---------------+---------------+---------------+-----------------+--------------+--------------+--------------+----------------+--------------+--------------+--------------+----------------+-------------------------+-----------------------+-----------------+------------------+------------------+------------------+-----------------------+------------------+------------------+------------------+------------------+----------------------+------------------+------------------+------------------+------------------+-----------------------+-----------------+-----------------+------------------+------------------+----------------------+------------------+-----------------+------------------+------------------+-----------------------+----------+------------+--------------------+------------------+\n",
      "|player_id|          venue_name|batter_runs_1000D|batter_runs_1000D_venue|balls_faced_1000D|balls_faced_1000D_venue|dismissals_1000D|dismissals_1000D_venue|boundary_count_1000D|boundary_count_1000D_venue|six_count_1000D|six_count_1000D_venue|batter_runs_300D|batter_runs_300D_venue|balls_faced_300D|dismissals_300D|boundary_count_300D|six_count_300D|batter_runs_90D|batter_runs_90D_venue|balls_faced_90D|dismissals_90D|boundary_count_90D|six_count_90D|batter_runs_30D|batter_runs_30D_venue|balls_faced_30D|dismissals_30D|boundary_count_30D|six_count_30D|total_runs_1000D|total_runs_1000D_venue|deliveries_1000D|deliveries_1000D_venue|wicket_sum_1000D|wicket_sum_1000D_venue|maiden_count_1000D|maiden_count_1000D_venue|total_runs_300D|deliveries_300D|wicket_sum_300D|maiden_count_300D|total_runs_90D|deliveries_90D|wicket_sum_90D|maiden_count_90D|total_runs_30D|deliveries_30D|wicket_sum_30D|maiden_count_30D|fielding_wicket_sum_1000D|fielding_wicket_sum_30D|  batting_avg_30D|   batting_avg_90D|  batting_avg_300D| batting_avg_1000D|batting_avg_1000D_venue|    batting_sr_30D|    batting_sr_90D|   batting_sr_300D|  batting_sr_1000D|batting_sr_1000D_venue|   bowling_avg_30D|   bowling_avg_90D|  bowling_avg_300D| bowling_avg_1000D|bowling_avg_1000D_venue|   bowling_sr_30D|   bowling_sr_90D|   bowling_sr_300D|  bowling_sr_1000D|bowling_sr_1000D_venue|   bowling_eco_30D|  bowling_eco_90D|  bowling_eco_300D| bowling_eco_1000D|bowling_eco_1000D_venue|identifier| unique_name|            features|        prediction|\n",
      "+---------+--------------------+-----------------+-----------------------+-----------------+-----------------------+----------------+----------------------+--------------------+--------------------------+---------------+---------------------+----------------+----------------------+----------------+---------------+-------------------+--------------+---------------+---------------------+---------------+--------------+------------------+-------------+---------------+---------------------+---------------+--------------+------------------+-------------+----------------+----------------------+----------------+----------------------+----------------+----------------------+------------------+------------------------+---------------+---------------+---------------+-----------------+--------------+--------------+--------------+----------------+--------------+--------------+--------------+----------------+-------------------------+-----------------------+-----------------+------------------+------------------+------------------+-----------------------+------------------+------------------+------------------+------------------+----------------------+------------------+------------------+------------------+------------------+-----------------------+-----------------+-----------------+------------------+------------------+----------------------+------------------+-----------------+------------------+------------------+-----------------------+----------+------------+--------------------+------------------+\n",
      "| 818c9e0d|St George's Park,...|                0|                      0|                0|                      0|               0|                     0|                   0|                         0|              0|                    0|               0|                     0|               0|              0|                  0|             0|              0|                    0|              0|             0|                 0|            0|              0|                    0|              0|             0|                 0|            0|               0|                     0|               0|                     0|               0|                     0|                 0|                       0|              0|              0|              0|                0|             0|             0|             0|               0|             0|             0|             0|               0|                        0|                      0|              0.0|               0.0|               0.0|               0.0|                    0.0|               0.0|               0.0|               0.0|               0.0|                   0.0|               0.0|               0.0|               0.0|               0.0|                    0.0|              0.0|              0.0|               0.0|               0.0|                   0.0|               0.0|              0.0|               0.0|               0.0|                    0.0|  818c9e0d|    KR Brown|          (70,[],[])| 8.857926067013366|\n",
      "| 36e2dc83|St George's Park,...|              715|                      0|              387|                      0|              33|                     0|                  88|                         0|             37|                    0|             337|                     0|             164|             12|                 48|            16|            144|                    0|             57|             2|                23|            7|             67|                    0|             28|             0|                 9|            4|               0|                     0|               0|                     0|               0|                     0|                 0|                       0|              0|              0|              0|                0|             0|             0|             0|               0|             0|             0|             0|               0|                       19|                      0|             67.0|              72.0|28.083333333333332|21.666666666666668|                    0.0| 2.392857142857143| 2.526315789473684|2.0548780487804876| 1.847545219638243|                   0.0|               0.0|               0.0|               0.0|               0.0|                    0.0|              0.0|              0.0|               0.0|               0.0|                   0.0|               0.0|              0.0|               0.0|               0.0|                    0.0|  36e2dc83|    L Harris|(70,[0,1,2,3,5,6,...| 3.998648085056092|\n",
      "| 6d76bc23|St George's Park,...|              534|                      0|              530|                      0|              17|                     0|                  51|                         0|              8|                    0|             358|                     0|             343|             13|                 35|             4|             59|                    0|             57|             0|                 6|            0|             30|                    0|             27|             0|                 3|            0|             330|                     0|             299|                     0|               8|                     0|                 0|                       0|            231|            236|              7|                0|            15|            14|             0|               0|             0|             0|             0|               0|                       13|                      0|             30.0|              59.0| 27.53846153846154| 31.41176470588235|                    0.0|1.1111111111111112|1.0350877192982457| 1.043731778425656|1.0075471698113208|                   0.0|               0.0|              15.0|              33.0|             41.25|                    0.0|              0.0|             14.0|33.714285714285715|            37.375|                   0.0|               0.0|6.428571428571429| 5.872881355932203| 6.622073578595318|                    0.0|  6d76bc23|      S Luus|(70,[0,1,2,3,5,6,...| 4.858777415136165|\n",
      "| e60f81c9|St George's Park,...|             2299|                      0|             2023|                      0|              65|                     0|                 250|                         0|             30|                    0|            1269|                     0|            1130|             34|                143|            10|            135|                    0|            145|             4|                17|            0|             67|                    0|             76|             1|                 9|            0|               0|                     0|               0|                     0|               0|                     0|                 0|                       0|              0|              0|              0|                0|             0|             0|             0|               0|             0|             0|             0|               0|                       29|                      1|             67.0|             33.75|  37.3235294117647| 35.36923076923077|                    0.0| 0.881578947368421|0.9310344827586207|1.1230088495575221|1.1364310430054374|                   0.0|               0.0|               0.0|               0.0|               0.0|                    0.0|              0.0|              0.0|               0.0|               0.0|                   0.0|               0.0|              0.0|               0.0|               0.0|                    0.0|  e60f81c9| L Wolvaardt|(70,[0,1,2,3,5,6,...| 5.078100237958161|\n",
      "| 63e3b6b3|St George's Park,...|             1053|                      0|              920|                      0|              34|                     0|                 112|                         0|             19|                    0|             505|                     0|             374|             12|                 55|            13|             74|                    0|             66|             2|                 6|            1|             52|                    0|             44|             1|                 5|            0|            1208|                     0|            1261|                     0|              79|                     0|                 5|                       0|            469|            466|             24|                1|            50|            49|             1|               0|            20|            24|             0|               0|                       12|                      0|             52.0|              37.0|42.083333333333336|30.970588235294116|                    0.0|1.1818181818181819| 1.121212121212121|1.3502673796791445|1.1445652173913043|                   0.0|              20.0|              50.0|19.541666666666668|15.291139240506329|                    0.0|             24.0|             49.0|19.416666666666668|15.962025316455696|                   0.0|               5.0|6.122448979591836|  6.03862660944206|  5.74781919111816|                    0.0|  63e3b6b3|      M Kapp|[52.0,74.0,505.0,...| 5.402834256491887|\n",
      "| ce85fcaf|St George's Park,...|               15|                      0|               25|                      0|               2|                     0|                   0|                         0|              0|                    0|               3|                     0|              10|              2|                  0|             0|              2|                    0|              6|             1|                 0|            0|              0|                    0|              0|             0|                 0|            0|             324|                     0|             254|                     0|              16|                     0|                 1|                       0|            192|            143|             12|                1|            58|            64|             7|               1|            42|            51|             7|               1|                        1|                      1|              0.0|               2.0|               1.5|               7.5|                    0.0|               0.0|0.3333333333333333|               0.3|               0.6|                   0.0|               6.0| 8.285714285714286|              16.0|             20.25|                    0.0|7.285714285714286|9.142857142857142|11.916666666666666|            15.875|                   0.0|4.9411764705882355|           5.4375| 8.055944055944057| 7.653543307086614|                    0.0|  ce85fcaf|     M Klaas|(70,[1,2,3,6,7,8,...| 7.242818167407027|\n",
      "| 65d9b6b6|St George's Park,...|              726|                      0|              704|                      0|              33|                     0|                  57|                         0|             21|                    0|             393|                     0|             354|             15|                 29|            12|              1|                    0|              3|             1|                 0|            0|              0|                    0|              0|             0|                 0|            0|            1121|                     0|             929|                     0|              51|                     0|                 3|                       0|            634|            492|             30|                1|            84|            70|             4|               0|            15|            25|             1|               0|                       26|                      0|              0.0|               1.0|              26.2|              22.0|                    0.0|               0.0|0.3333333333333333|1.1101694915254237|           1.03125|                   0.0|              15.0|              21.0|21.133333333333333|21.980392156862745|                    0.0|             25.0|             17.5|              16.4|18.215686274509803|                   0.0|               3.6|              7.2|7.7317073170731705| 7.240043057050592|                    0.0|  65d9b6b6|A Sutherland|(70,[1,2,3,6,7,8,...| 6.481723335181403|\n",
      "| 7fca84b7|St George's Park,...|             1500|                      0|             1266|                      0|              60|                     0|                 160|                         0|             56|                    0|             843|                     0|             679|             26|                 91|            31|             89|                    0|             90|             6|                 8|            3|             20|                    0|             31|             3|                 2|            1|               0|                     0|               0|                     0|               0|                     0|                 0|                       0|              0|              0|              0|                0|             0|             0|             0|               0|             0|             0|             0|               0|                       28|                      0|6.666666666666667|14.833333333333334| 32.42307692307692|              25.0|                    0.0|0.6451612903225806|0.9888888888888889|1.2415316642120766|1.1848341232227488|                   0.0|               0.0|               0.0|               0.0|               0.0|                    0.0|              0.0|              0.0|               0.0|               0.0|                   0.0|               0.0|              0.0|               0.0|               0.0|                    0.0|  7fca84b7|     BA King|(70,[0,1,2,3,5,6,...| 6.136735251317408|\n",
      "| 00015688|St George's Park,...|                2|                      0|               20|                      0|               1|                     0|                   0|                         0|              0|                    0|               0|                     0|               0|              0|                  0|             0|              0|                    0|              0|             0|                 0|            0|              0|                    0|              0|             0|                 0|            0|               0|                     0|               0|                     0|               0|                     0|                 0|                       0|              0|              0|              0|                0|             0|             0|             0|               0|             0|             0|             0|               0|                        0|                      0|              0.0|               0.0|               0.0|               2.0|                    0.0|               0.0|               0.0|               0.0|               0.1|                   0.0|               0.0|               0.0|               0.0|               0.0|                    0.0|              0.0|              0.0|               0.0|               0.0|                   0.0|               0.0|              0.0|               0.0|               0.0|                    0.0|  00015688|      M King|(70,[3,8,13,28,33...| 7.351448635455944|\n",
      "| 83558266|St George's Park,...|              279|                      0|              214|                      0|              20|                     0|                  20|                         0|             14|                    0|             132|                     0|             101|             12|                  9|             8|              7|                    0|              6|             0|                 1|            0|              0|                    0|              0|             0|                 0|            0|            1389|                     0|            1396|                     0|              86|                     0|                 4|                       0|            799|            809|             51|                4|           152|           128|             8|               0|            26|            36|             4|               0|                       19|                      0|              0.0|               7.0|              11.0|             13.95|                    0.0|               0.0|1.1666666666666667| 1.306930693069307|1.3037383177570094|                   0.0|               6.5|              19.0|15.666666666666666|16.151162790697676|                    0.0|              9.0|             16.0|15.862745098039216|16.232558139534884|                   0.0| 4.333333333333333|            7.125| 5.925834363411619| 5.969914040114613|                    0.0|  83558266|      A King|(70,[1,2,3,6,7,8,...| 7.242818167407027|\n",
      "| c122ab7f|St George's Park,...|                0|                      0|                0|                      0|               0|                     0|                   0|                         0|              0|                    0|               0|                     0|               0|              0|                  0|             0|              0|                    0|              0|             0|                 0|            0|              0|                    0|              0|             0|                 0|            0|              14|                     0|              14|                     0|               1|                     0|                 0|                       0|             14|             14|              1|                0|             0|             0|             0|               0|             0|             0|             0|               0|                        0|                      0|              0.0|               0.0|               0.0|               0.0|                    0.0|               0.0|               0.0|               0.0|               0.0|                   0.0|               0.0|               0.0|              14.0|              14.0|                    0.0|              0.0|              0.0|              14.0|              14.0|                   0.0|               0.0|              0.0|               6.0|               6.0|                    0.0|  c122ab7f|     J Brown|(70,[37,38,42,43,...| 8.857926067013366|\n",
      "| ea544967|St George's Park,...|              189|                      0|              182|                      0|               9|                     0|                  18|                         0|              1|                    0|              35|                     0|              32|              1|                  4|             0|             23|                    0|             21|             1|                 3|            0|              7|                    0|              3|             0|                 1|            0|             505|                     0|             482|                     0|              16|                     0|                 1|                       0|            161|            171|              9|                1|            50|            58|             0|               0|            29|            39|             0|               0|                        8|                      0|              7.0|              23.0|              35.0|              21.0|                    0.0|2.3333333333333335|1.0952380952380953|           1.09375|1.0384615384615385|                   0.0|              29.0|              50.0| 17.88888888888889|           31.5625|                    0.0|             39.0|             58.0|              19.0|            30.125|                   0.0| 4.461538461538462|5.172413793103448| 5.649122807017544| 6.286307053941909|                    0.0|  ea544967|  N de Klerk|[7.0,23.0,35.0,18...|1.9662416294343947|\n",
      "| 9e85455c|St George's Park,...|               11|                      0|               14|                      0|               1|                     0|                   1|                         0|              0|                    0|              11|                     0|              14|              1|                  1|             0|             11|                    0|             14|             1|                 1|            0|              0|                    0|              0|             0|                 0|            0|               0|                     0|               0|                     0|               0|                     0|                 0|                       0|              0|              0|              0|                0|             0|             0|             0|               0|             0|             0|             0|               0|                        1|                      0|              0.0|              11.0|              11.0|              11.0|                    0.0|               0.0|0.7857142857142857|0.7857142857142857|0.7857142857142857|                   0.0|               0.0|               0.0|               0.0|               0.0|                    0.0|              0.0|              0.0|               0.0|               0.0|                   0.0|               0.0|              0.0|               0.0|               0.0|                    0.0|  9e85455c|   MS Harris|(70,[1,2,3,6,7,8,...| 7.351448635455944|\n",
      "| 2b425403|St George's Park,...|               21|                      0|               36|                      0|               3|                     0|                   1|                         0|              0|                    0|              21|                     0|              36|              3|                  1|             0|              4|                    0|              8|             1|                 0|            0|              4|                    0|              7|             0|                 0|            0|              77|                     0|              60|                     0|               1|                     0|                 0|                       0|             77|             60|              1|                0|            14|            12|             1|               0|             0|             0|             0|               0|                        1|                      0|              4.0|               4.0|               7.0|               7.0|                    0.0|0.5714285714285714|               0.5|0.5833333333333334|0.5833333333333334|                   0.0|               0.0|              14.0|              77.0|              77.0|                    0.0|              0.0|             12.0|              60.0|              60.0|                   0.0|               0.0|              7.0|               7.7|               7.7|                    0.0|  2b425403|    D Tucker|(70,[0,1,2,3,5,6,...| 5.679437813807584|\n",
      "| 43223c50|St George's Park,...|               12|                      0|               22|                      0|               3|                     0|                   0|                         0|              0|                    0|               0|                     0|               0|              0|                  0|             0|              0|                    0|              0|             0|                 0|            0|              0|                    0|              0|             0|                 0|            0|              26|                     0|              25|                     0|               0|                     0|                 0|                       0|              0|              0|              0|                0|             0|             0|             0|               0|             0|             0|             0|               0|                        0|                      0|              0.0|               0.0|               0.0|               4.0|                    0.0|               0.0|               0.0|               0.0|0.5454545454545454|                   0.0|               0.0|               0.0|               0.0|              26.0|                    0.0|              0.0|              0.0|               0.0|              25.0|                   0.0|               0.0|              0.0|               0.0|              6.24|                    0.0|  43223c50|   GA Harris|(70,[3,8,13,28,33...| 7.351448635455944|\n",
      "| f1ba9ed7|St George's Park,...|               18|                      0|               29|                      0|               3|                     0|                   1|                         0|              0|                    0|               4|                     0|               8|              1|                  0|             0|              0|                    0|              0|             0|                 0|            0|              0|                    0|              0|             0|                 0|            0|             189|                     0|              97|                     0|               1|                     0|                 0|                       0|             58|             31|              0|                0|             0|             0|             0|               0|             0|             0|             0|               0|                        3|                      0|              0.0|               0.0|               4.0|               6.0|                    0.0|               0.0|               0.0|               0.5|0.6206896551724138|                   0.0|               0.0|               0.0|              58.0|             189.0|                    0.0|              0.0|              0.0|              31.0|              97.0|                   0.0|               0.0|              0.0|11.225806451612904|11.690721649484535|                    0.0|  f1ba9ed7|  JAR Harris|(70,[2,3,7,8,12,1...| 7.351448635455944|\n",
      "| dd639a8c|St George's Park,...|               23|                      0|               31|                      0|               3|                     0|                   1|                         0|              0|                    0|               0|                     0|               1|              0|                  0|             0|              0|                    0|              1|             0|                 0|            0|              0|                    0|              1|             0|                 0|            0|             106|                     0|             105|                     0|               8|                     0|                 0|                       0|             79|             73|              5|                0|            79|            73|             5|               0|            25|            36|             5|               0|                        7|                      2|              0.0|               0.0|               0.0| 7.666666666666667|                    0.0|               0.0|               0.0|               0.0|0.7419354838709677|                   0.0|               5.0|              15.8|              15.8|             13.25|                    0.0|              7.2|             14.6|              14.6|            13.125|                   0.0| 4.166666666666667|6.493150684931507| 6.493150684931507| 6.057142857142857|                    0.0|  dd639a8c|     CR King|(70,[3,5,6,7,8,13...| 5.570807345758666|\n",
      "| 72166006|St George's Park,...|             1194|                      0|             1035|                      0|              40|                     0|                 134|                         0|             33|                    0|             537|                     0|             416|             18|                 61|            17|            156|                    0|             91|             3|                19|            8|              0|                    0|              0|             0|                 0|            0|             500|                     0|             436|                     0|              29|                     0|                 1|                       0|            115|            102|              8|                0|            10|            12|             1|               0|            10|            12|             1|               0|                       30|                      2|              0.0|              52.0|29.833333333333332|             29.85|                    0.0|               0.0|1.7142857142857142|1.2908653846153846| 1.153623188405797|                   0.0|              10.0|              10.0|            14.375| 17.24137931034483|                    0.0|             12.0|             12.0|             12.75| 15.03448275862069|                   0.0|               5.0|              5.0| 6.764705882352941|6.8807339449541285|                    0.0|  72166006|   GM Harris|[0.0,156.0,537.0,...| 6.426777005084953|\n",
      "| b5c83d22|St George's Park,...|               52|                      0|               46|                      0|               5|                     0|                   7|                         0|              0|                    0|              45|                     0|              41|              4|                  6|             0|             16|                    0|             18|             2|                 2|            0|              0|                    0|              1|             0|                 0|            0|             435|                     0|             385|                     0|              17|                     0|                 1|                       0|            273|            251|             13|                0|           141|           136|             9|               0|            11|            21|             3|               0|                        5|                      0|              0.0|               8.0|             11.25|              10.4|                    0.0|               0.0|0.8888888888888888|1.0975609756097562|1.1304347826086956|                   0.0|3.6666666666666665|15.666666666666666|              21.0| 25.58823529411765|                    0.0|              7.0|15.11111111111111|19.307692307692307|22.647058823529413|                   0.0| 3.142857142857143|6.220588235294118|  6.52589641434263| 6.779220779220779|                    0.0|  b5c83d22|   PC Graham|(70,[1,2,3,5,6,7,...| 5.679437813807584|\n",
      "| 52d1dbc8|St George's Park,...|             2430|                      0|             1974|                      0|              50|                     0|                 303|                         0|             15|                    0|            1134|                     0|             880|             23|                153|             9|            251|                    0|            179|             4|                39|            1|             46|                    0|             30|             1|                 6|            1|               0|                     0|               0|                     0|               0|                     0|                 0|                       0|              0|              0|              0|                0|             0|             0|             0|               0|             0|             0|             0|               0|                       43|                      1|             46.0|             62.75| 49.30434782608695|              48.6|                    0.0|1.5333333333333334|1.4022346368715084|1.2886363636363636|1.2310030395136777|                   0.0|               0.0|               0.0|               0.0|               0.0|                    0.0|              0.0|              0.0|               0.0|               0.0|                   0.0|               0.0|              0.0|               0.0|               0.0|                    0.0|  52d1dbc8|   BL Mooney|(70,[0,1,2,3,5,6,...|3.5949502355867775|\n",
      "+---------+--------------------+-----------------+-----------------------+-----------------+-----------------------+----------------+----------------------+--------------------+--------------------------+---------------+---------------------+----------------+----------------------+----------------+---------------+-------------------+--------------+---------------+---------------------+---------------+--------------+------------------+-------------+---------------+---------------------+---------------+--------------+------------------+-------------+----------------+----------------------+----------------+----------------------+----------------+----------------------+------------------+------------------------+---------------+---------------+---------------+-----------------+--------------+--------------+--------------+----------------+--------------+--------------+--------------+----------------+-------------------------+-----------------------+-----------------+------------------+------------------+------------------+-----------------------+------------------+------------------+------------------+------------------+----------------------+------------------+------------------+------------------+------------------+-----------------------+-----------------+-----------------+------------------+------------------+----------------------+------------------+-----------------+------------------+------------------+-----------------------+----------+------------+--------------------+------------------+\n",
      "only showing top 20 rows\n",
      "\n"
     ]
    }
   ],
   "source": [
    "inference_predictions_df.show()"
   ]
  },
  {
   "cell_type": "code",
   "execution_count": 93,
   "id": "74ae8892",
   "metadata": {},
   "outputs": [],
   "source": [
    "inference_predictions_df.registerTempTable(\"player_inferences\")"
   ]
  },
  {
   "cell_type": "code",
   "execution_count": 94,
   "id": "5ba7d4a0",
   "metadata": {},
   "outputs": [
    {
     "name": "stderr",
     "output_type": "stream",
     "text": [
      "23/02/18 21:05:32 WARN WindowExec: No Partition Defined for Window operation! Moving all data to a single partition, this can cause serious performance degradation.\n",
      "                                                                                \r"
     ]
    },
    {
     "data": {
      "text/html": [
       "<div>\n",
       "<style scoped>\n",
       "    .dataframe tbody tr th:only-of-type {\n",
       "        vertical-align: middle;\n",
       "    }\n",
       "\n",
       "    .dataframe tbody tr th {\n",
       "        vertical-align: top;\n",
       "    }\n",
       "\n",
       "    .dataframe thead th {\n",
       "        text-align: right;\n",
       "    }\n",
       "</style>\n",
       "<table border=\"1\" class=\"dataframe\">\n",
       "  <thead>\n",
       "    <tr style=\"text-align: right;\">\n",
       "      <th></th>\n",
       "      <th>player_id</th>\n",
       "      <th>unique_name</th>\n",
       "      <th>prediction</th>\n",
       "      <th>predicted_rank</th>\n",
       "    </tr>\n",
       "  </thead>\n",
       "  <tbody>\n",
       "    <tr>\n",
       "      <th>0</th>\n",
       "      <td>818c9e0d</td>\n",
       "      <td>KR Brown</td>\n",
       "      <td>8.857926</td>\n",
       "      <td>1</td>\n",
       "    </tr>\n",
       "    <tr>\n",
       "      <th>1</th>\n",
       "      <td>c122ab7f</td>\n",
       "      <td>J Brown</td>\n",
       "      <td>8.857926</td>\n",
       "      <td>1</td>\n",
       "    </tr>\n",
       "    <tr>\n",
       "      <th>2</th>\n",
       "      <td>98797fb4</td>\n",
       "      <td>K Sutherland</td>\n",
       "      <td>8.857926</td>\n",
       "      <td>1</td>\n",
       "    </tr>\n",
       "    <tr>\n",
       "      <th>3</th>\n",
       "      <td>c8e5012c</td>\n",
       "      <td>Nazwan Ismail</td>\n",
       "      <td>8.857926</td>\n",
       "      <td>1</td>\n",
       "    </tr>\n",
       "    <tr>\n",
       "      <th>4</th>\n",
       "      <td>a7367f83</td>\n",
       "      <td>SK Ismail</td>\n",
       "      <td>8.857926</td>\n",
       "      <td>1</td>\n",
       "    </tr>\n",
       "    <tr>\n",
       "      <th>...</th>\n",
       "      <td>...</td>\n",
       "      <td>...</td>\n",
       "      <td>...</td>\n",
       "      <td>...</td>\n",
       "    </tr>\n",
       "    <tr>\n",
       "      <th>66</th>\n",
       "      <td>be150fc8</td>\n",
       "      <td>EA Perry</td>\n",
       "      <td>3.656450</td>\n",
       "      <td>67</td>\n",
       "    </tr>\n",
       "    <tr>\n",
       "      <th>67</th>\n",
       "      <td>52d1dbc8</td>\n",
       "      <td>BL Mooney</td>\n",
       "      <td>3.594950</td>\n",
       "      <td>68</td>\n",
       "    </tr>\n",
       "    <tr>\n",
       "      <th>68</th>\n",
       "      <td>bc2d4f2e</td>\n",
       "      <td>W Sutherland</td>\n",
       "      <td>2.179394</td>\n",
       "      <td>69</td>\n",
       "    </tr>\n",
       "    <tr>\n",
       "      <th>69</th>\n",
       "      <td>ea544967</td>\n",
       "      <td>N de Klerk</td>\n",
       "      <td>1.966242</td>\n",
       "      <td>70</td>\n",
       "    </tr>\n",
       "    <tr>\n",
       "      <th>70</th>\n",
       "      <td>bc969efb</td>\n",
       "      <td>A Gardner</td>\n",
       "      <td>0.654766</td>\n",
       "      <td>71</td>\n",
       "    </tr>\n",
       "  </tbody>\n",
       "</table>\n",
       "<p>71 rows × 4 columns</p>\n",
       "</div>"
      ],
      "text/plain": [
       "   player_id    unique_name  prediction  predicted_rank\n",
       "0   818c9e0d       KR Brown    8.857926               1\n",
       "1   c122ab7f        J Brown    8.857926               1\n",
       "2   98797fb4   K Sutherland    8.857926               1\n",
       "3   c8e5012c  Nazwan Ismail    8.857926               1\n",
       "4   a7367f83      SK Ismail    8.857926               1\n",
       "..       ...            ...         ...             ...\n",
       "66  be150fc8       EA Perry    3.656450              67\n",
       "67  52d1dbc8      BL Mooney    3.594950              68\n",
       "68  bc2d4f2e   W Sutherland    2.179394              69\n",
       "69  ea544967     N de Klerk    1.966242              70\n",
       "70  bc969efb      A Gardner    0.654766              71\n",
       "\n",
       "[71 rows x 4 columns]"
      ]
     },
     "execution_count": 94,
     "metadata": {},
     "output_type": "execute_result"
    }
   ],
   "source": [
    "spark.sql(\"\"\"\n",
    "select player_id, unique_name, \n",
    "            prediction, rank() over(order by prediction desc) as predicted_rank\n",
    "        from player_inferences\n",
    "\"\"\").toPandas()"
   ]
  },
  {
   "cell_type": "code",
   "execution_count": 79,
   "id": "46768feb",
   "metadata": {},
   "outputs": [
    {
     "name": "stderr",
     "output_type": "stream",
     "text": [
      "                                                                                \r"
     ]
    },
    {
     "data": {
      "text/plain": [
       "269"
      ]
     },
     "execution_count": 79,
     "metadata": {},
     "output_type": "execute_result"
    }
   ],
   "source": [
    "player_features_df.count()"
   ]
  },
  {
   "cell_type": "code",
   "execution_count": null,
   "id": "0d269c9f",
   "metadata": {},
   "outputs": [],
   "source": []
  }
 ],
 "metadata": {
  "kernelspec": {
   "display_name": "Python 3 (ipykernel)",
   "language": "python",
   "name": "python3"
  },
  "language_info": {
   "codemirror_mode": {
    "name": "ipython",
    "version": 3
   },
   "file_extension": ".py",
   "mimetype": "text/x-python",
   "name": "python",
   "nbconvert_exporter": "python",
   "pygments_lexer": "ipython3",
   "version": "3.9.16"
  }
 },
 "nbformat": 4,
 "nbformat_minor": 5
}
