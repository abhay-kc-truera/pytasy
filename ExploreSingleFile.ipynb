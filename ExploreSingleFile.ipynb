{
 "cells": [
  {
   "cell_type": "code",
   "execution_count": 1,
   "id": "82912d21",
   "metadata": {},
   "outputs": [
    {
     "name": "stderr",
     "output_type": "stream",
     "text": [
      "23/02/10 19:03:57 WARN Utils: Your hostname, Chaturvedi_PC resolves to a loopback address: 127.0.1.1; using 172.27.77.242 instead (on interface eth0)\n",
      "23/02/10 19:03:57 WARN Utils: Set SPARK_LOCAL_IP if you need to bind to another address\n",
      "23/02/10 19:03:59 WARN NativeCodeLoader: Unable to load native-hadoop library for your platform... using builtin-java classes where applicable\n",
      "Using Spark's default log4j profile: org/apache/spark/log4j-defaults.properties\n",
      "Setting default log level to \"WARN\".\n",
      "To adjust logging level use sc.setLogLevel(newLevel). For SparkR, use setLogLevel(newLevel).\n"
     ]
    }
   ],
   "source": [
    "from pyspark.sql import SparkSession\n",
    "\n",
    "#Create SparkSession\n",
    "spark = SparkSession.builder.appName('SparkByExamples.com').getOrCreate()"
   ]
  },
  {
   "cell_type": "code",
   "execution_count": 2,
   "id": "b9654c29",
   "metadata": {},
   "outputs": [
    {
     "name": "stderr",
     "output_type": "stream",
     "text": [
      "                                                                                \r"
     ]
    }
   ],
   "source": [
    "df = spark.read.parquet('processed_output/delivery_parquet')"
   ]
  },
  {
   "cell_type": "code",
   "execution_count": 3,
   "id": "960958f5",
   "metadata": {},
   "outputs": [
    {
     "name": "stderr",
     "output_type": "stream",
     "text": [
      "23/02/10 19:04:13 WARN package: Truncated the string representation of a plan since it was too large. This behavior can be adjusted by setting 'spark.sql.debug.maxToStringFields'.\n"
     ]
    }
   ],
   "source": [
    "df.registerTempTable(\"matches\")"
   ]
  },
  {
   "cell_type": "code",
   "execution_count": 20,
   "id": "81eb00dd",
   "metadata": {},
   "outputs": [
    {
     "data": {
      "text/plain": [
       "['innings_number',\n",
       " 'batter_name',\n",
       " 'batter_team',\n",
       " 'batter_id',\n",
       " 'bowler_name',\n",
       " 'bowler_team',\n",
       " 'bowler_id',\n",
       " 'batter_runs',\n",
       " 'extra_runs',\n",
       " 'total_runs',\n",
       " 'over',\n",
       " 'ball',\n",
       " 'is_wicket',\n",
       " 'wicket_player_name',\n",
       " 'wicket_player_id',\n",
       " 'wicket_fielder_name',\n",
       " 'wicket_fielder_id',\n",
       " 'wicket_kind',\n",
       " 'match_id',\n",
       " 'event_name',\n",
       " 'match_type',\n",
       " 'team_type',\n",
       " 'venue_name',\n",
       " 'city',\n",
       " 'gender',\n",
       " 'total_overs',\n",
       " 'season',\n",
       " 'toss',\n",
       " 'team_1',\n",
       " 'team_2',\n",
       " 'start_date']"
      ]
     },
     "execution_count": 20,
     "metadata": {},
     "output_type": "execute_result"
    }
   ],
   "source": [
    "spark.sql(\"select * from matches\").columns"
   ]
  },
  {
   "cell_type": "code",
   "execution_count": null,
   "id": "60eaa253",
   "metadata": {},
   "outputs": [],
   "source": []
  }
 ],
 "metadata": {
  "kernelspec": {
   "display_name": "Python 3 (ipykernel)",
   "language": "python",
   "name": "python3"
  },
  "language_info": {
   "codemirror_mode": {
    "name": "ipython",
    "version": 3
   },
   "file_extension": ".py",
   "mimetype": "text/x-python",
   "name": "python",
   "nbconvert_exporter": "python",
   "pygments_lexer": "ipython3",
   "version": "3.9.16"
  }
 },
 "nbformat": 4,
 "nbformat_minor": 5
}
