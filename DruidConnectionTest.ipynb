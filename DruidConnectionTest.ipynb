{
 "cells": [
  {
   "cell_type": "code",
   "execution_count": null,
   "id": "ff3cfe6a",
   "metadata": {},
   "outputs": [],
   "source": [
    "from pyspark.sql import SparkSession\n",
    "\n",
    "spark = SparkSession.builder.appName('SparkByExamples.com').config('spark.driver.bindAddress','localhost').config(\"spark.ui.port\",\"4050\").getOrCreate()\n",
    "spark.read.parquet(\"processed_output/delivery_parquet\").registerTempTable(\"all_matches\")"
   ]
  },
  {
   "cell_type": "code",
   "execution_count": null,
   "id": "a96b3eb2",
   "metadata": {},
   "outputs": [],
   "source": [
    "train_t20_match_id_query = \"\"\"\n",
    "    with training_collection as (\n",
    "        select distinct match_id from all_matches where dt>='2018-01-01' and match_type='T20' limit 1500\n",
    "    ), base_data as (\n",
    "        select * from all_matches where dt>='2018-01-01' and match_id in (select match_id from training_collection)\n",
    "    ), player_ids as (\n",
    "        select distinct match_id, dt, venue_name, batter_team as team, batter_id as player_id, batter_name as player_name from base_data where batter_id is not null\n",
    "        union\n",
    "        select distinct match_id, dt, venue_name, bowler_team as team, bowler_id as player_id, bowler_name as player_name from base_data where bowler_id is not null\n",
    "        union\n",
    "        select distinct match_id, dt, venue_name, batter_team as team, wicket_player_id as player_id, wicket_player_name as player_name from base_data where wicket_player_id is not null\n",
    "        union\n",
    "        select distinct match_id, dt, venue_name, bowler_team as team, wicket_fielder_id as player_id, wicket_fielder_name as player_name from base_data where wicket_fielder_id is not null\n",
    "    )\n",
    "    select distinct match_id, dt, venue_name, team, player_id, player_name from player_ids \n",
    "\"\"\"\n",
    "train_t20_match_ids = spark.sql(train_t20_match_id_query)"
   ]
  },
  {
   "cell_type": "code",
   "execution_count": null,
   "id": "f6ea2962",
   "metadata": {},
   "outputs": [],
   "source": [
    "from etl.druid.stats_helper import prepare_player_match_for_training"
   ]
  },
  {
   "cell_type": "code",
   "execution_count": null,
   "id": "15d0a67c",
   "metadata": {},
   "outputs": [],
   "source": [
    "training_rows = train_t20_match_ids.rdd.map(prepare_player_match_for_training)"
   ]
  },
  {
   "cell_type": "code",
   "execution_count": null,
   "id": "77caf84b",
   "metadata": {},
   "outputs": [],
   "source": [
    "from etl.druid.training_record_schema import training_record_schema\n",
    "df = spark.createDataFrame(training_rows.take(10), schema=training_record_schema)\n",
    "df.toPandas()"
   ]
  },
  {
   "cell_type": "code",
   "execution_count": null,
   "id": "b74ad2f3",
   "metadata": {},
   "outputs": [],
   "source": []
  }
 ],
 "metadata": {
  "kernelspec": {
   "display_name": "Python 3 (ipykernel)",
   "language": "python",
   "name": "python3"
  },
  "language_info": {
   "codemirror_mode": {
    "name": "ipython",
    "version": 3
   },
   "file_extension": ".py",
   "mimetype": "text/x-python",
   "name": "python",
   "nbconvert_exporter": "python",
   "pygments_lexer": "ipython3",
   "version": "3.9.16"
  }
 },
 "nbformat": 4,
 "nbformat_minor": 5
}
