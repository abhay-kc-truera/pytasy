{
 "cells": [
  {
   "cell_type": "code",
   "execution_count": null,
   "id": "fa239e3f",
   "metadata": {},
   "outputs": [],
   "source": [
    "from pydruid.db import connect\n",
    "\n",
    "conn = connect(host='localhost', port=8888, path='/druid/v2/sql/', scheme='http')\n",
    "curs = conn.cursor()"
   ]
  },
  {
   "cell_type": "code",
   "execution_count": 53,
   "id": "fd6d5278",
   "metadata": {},
   "outputs": [],
   "source": [
    "from string import Template\n",
    "from typing import List\n",
    "\n",
    "batting_stats_template = Template(\"\"\"\n",
    "with base_data as (\n",
    "  select * from delivery_records WHERE __time > '$start_date' AND __time < '$end_date'  AND \"match_type\" = 'T20' $additional_filters\n",
    "), dismissals as (\n",
    "  select sum(\"is_wicket\") as dismissal_count from base_data WHERE \"wicket_player_id\" = '$batter_id'\n",
    ")\n",
    "SELECT\n",
    "  sum(\"batter_run_sum\")*100.0/sum(\"delivery_count\") as strike_rate,\n",
    "  sum(\"batter_run_sum\")*1.0/(SELECT sum(dismissal_count) from dismissals) as average\n",
    "from base_data\n",
    "where \"batter_id\" = '$batter_id'\n",
    "\"\"\")\n",
    "\n",
    "\n",
    "def get_venue_filter(venue_name:str):\n",
    "    return 'venue_name=\\'%s\\''%venue_name\n",
    "\n",
    "def get_adversary_filter(bowler_ids: List[str]):\n",
    "    return 'bowler_id in (%s)'% \",\".join(['\\'%s\\''%bowler_id for bowler_id in bowler_ids])\n",
    "\n",
    "venue = 'Eden Gardens'\n",
    "additional_filters ='and ' + get_venue_filter(venue)\n",
    "additional_filters = ' and ' +  get_adversary_filter(['495d42a5'])\n",
    "query = batting_stats_template.substitute(\n",
    "    start_date = '2017-01-01',\n",
    "    end_date='2023-01-01',\n",
    "    additional_filters=additional_filters,\n",
    "    batter_id='ba607b88')\n",
    "print(query)"
   ]
  },
  {
   "cell_type": "code",
   "execution_count": 57,
   "id": "8b5d6516",
   "metadata": {},
   "outputs": [
    {
     "name": "stdout",
     "output_type": "stream",
     "text": [
      "Row(strike_rate=110.0, average=33.0)\n"
     ]
    }
   ],
   "source": [
    "\n",
    "curs.execute(query)\n",
    "for row in curs:\n",
    "    print(row)"
   ]
  },
  {
   "cell_type": "code",
   "execution_count": 71,
   "id": "fb8254aa",
   "metadata": {},
   "outputs": [
    {
     "name": "stdout",
     "output_type": "stream",
     "text": [
      "\n",
      "with base_data as (\n",
      "  select * from delivery_records WHERE __time > '2017-01-01' AND __time < '2023-01-01'  AND \"match_type\" = 'T20'  and batter_id in ('ba607b88')\n",
      "), dismissals as (\n",
      "  select sum(\"wicket_sum\") as dismissal_count from base_data WHERE \"bowler_id\" = '495d42a5'\n",
      ")\n",
      "SELECT\n",
      "  sum(\"delivery_count\")*1.0/(SELECT sum(dismissal_count) from dismissals) as strike_rate,\n",
      "  sum(\"total_run_sum\")*1.0/(SELECT sum(dismissal_count) from dismissals) as average\n",
      "from base_data\n",
      "where \"bowler_id\" = '495d42a5'\n",
      "\n",
      "Row(strike_rate=30.0, average=35.0)\n"
     ]
    }
   ],
   "source": [
    "\n",
    "bowling_stats_template = Template(\"\"\"\n",
    "with base_data as (\n",
    "  select * from delivery_records WHERE __time > '$start_date' AND __time < '$end_date'  AND \"match_type\" = 'T20' $additional_filters\n",
    "), dismissals as (\n",
    "  select sum(\"wicket_sum\") as dismissal_count from base_data WHERE \"bowler_id\" = '$bowler_id'\n",
    ")\n",
    "SELECT\n",
    "  sum(\"delivery_count\")*1.0/(SELECT sum(dismissal_count) from dismissals) as strike_rate,\n",
    "  sum(\"total_run_sum\")*1.0/(SELECT sum(dismissal_count) from dismissals) as average\n",
    "from base_data\n",
    "where \"bowler_id\" = '$bowler_id'\n",
    "\"\"\")\n",
    "\n",
    "\n",
    "def get_venue_filter(venue_name:str):\n",
    "    return 'venue_name=\\'%s\\''%venue_name\n",
    "\n",
    "def get_adversary_filter(batter_ids: List[str]):\n",
    "    return 'batter_id in (%s)'% \",\".join(['\\'%s\\''%batter_id for batter_id in batter_ids])\n",
    "\n",
    "additional_filters = ' and ' +  get_adversary_filter(['ba607b88'])\n",
    "query = bowling_stats_template.substitute(\n",
    "    start_date = '2017-01-01',\n",
    "    end_date='2023-01-01',\n",
    "    additional_filters=additional_filters,\n",
    "    bowler_id='495d42a5')\n",
    "print(query)\n",
    "curs.execute(query)\n",
    "for row in curs:\n",
    "    print(row)"
   ]
  },
  {
   "cell_type": "code",
   "execution_count": 72,
   "id": "a0c87168",
   "metadata": {},
   "outputs": [
    {
     "name": "stdout",
     "output_type": "stream",
     "text": [
      "\n",
      "with base_data as (\n",
      "  select * from delivery_records WHERE __time > '2017-01-01' AND __time < '2023-01-01'  AND \"match_type\" = 'T20' \n",
      ")\n",
      "SELECT sum(wicket_sum) as fielding_dismissals from base_data where \"wicket_fielder_id\"= 'ba607b88'\n",
      "\n",
      "Row(fielding_dismissals=69)\n"
     ]
    }
   ],
   "source": [
    "fielding_stats_template = Template(\"\"\"\n",
    "with base_data as (\n",
    "  select * from delivery_records WHERE __time > '$start_date' AND __time < '$end_date'  AND \"match_type\" = 'T20' $additional_filters\n",
    ")\n",
    "SELECT sum(wicket_sum) as fielding_dismissals from base_data where \"wicket_fielder_id\"= '$fielder_id'\n",
    "\"\"\")\n",
    "additional_filters=''\n",
    "query = fielding_stats_template.substitute(\n",
    "    start_date = '2017-01-01',\n",
    "    end_date='2023-01-01',\n",
    "    additional_filters=additional_filters,\n",
    "    fielder_id='ba607b88')\n",
    "print(query)\n",
    "curs.execute(query)\n",
    "for row in curs:\n",
    "    print(row)"
   ]
  },
  {
   "cell_type": "code",
   "execution_count": null,
   "id": "4f226c83",
   "metadata": {},
   "outputs": [],
   "source": []
  }
 ],
 "metadata": {
  "kernelspec": {
   "display_name": "Python 3 (ipykernel)",
   "language": "python",
   "name": "python3"
  },
  "language_info": {
   "codemirror_mode": {
    "name": "ipython",
    "version": 3
   },
   "file_extension": ".py",
   "mimetype": "text/x-python",
   "name": "python",
   "nbconvert_exporter": "python",
   "pygments_lexer": "ipython3",
   "version": "3.9.16"
  }
 },
 "nbformat": 4,
 "nbformat_minor": 5
}
