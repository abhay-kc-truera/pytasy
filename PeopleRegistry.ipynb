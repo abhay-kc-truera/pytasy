{
 "cells": [
  {
   "cell_type": "code",
   "execution_count": null,
   "id": "2ae3fbb3",
   "metadata": {},
   "outputs": [],
   "source": [
    "import subprocess\n",
    "download_command = \"wget --directory-prefix downloads https://cricsheet.org/register/people.csv\"\n",
    "subprocess.run(download_command.split(\" \"))"
   ]
  },
  {
   "cell_type": "code",
   "execution_count": null,
   "id": "f85641ff",
   "metadata": {},
   "outputs": [],
   "source": [
    "from etl.spark.spark_session_helper import spark\n",
    "all_players_df = spark.read.csv(\"downloads/people.csv\", header=True)\n",
    "all_players_df.registerTempTable(\"all_players\")\n",
    "all_players_df.toPandas()"
   ]
  }
 ],
 "metadata": {
  "kernelspec": {
   "display_name": "dream11",
   "language": "python",
   "name": "python3"
  },
  "language_info": {
   "codemirror_mode": {
    "name": "ipython",
    "version": 3
   },
   "file_extension": ".py",
   "mimetype": "text/x-python",
   "name": "python",
   "nbconvert_exporter": "python",
   "pygments_lexer": "ipython3",
   "version": "3.9.16"
  },
  "vscode": {
   "interpreter": {
    "hash": "198575fd6629fa91bfd9fa074cc83b4a356efd4da6eb166ac1d1445fe6d3a8d9"
   }
  }
 },
 "nbformat": 4,
 "nbformat_minor": 5
}
