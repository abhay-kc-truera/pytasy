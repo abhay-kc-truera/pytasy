{
 "cells": [
  {
   "cell_type": "code",
   "execution_count": 1,
   "id": "4d6baab6",
   "metadata": {},
   "outputs": [
    {
     "name": "stderr",
     "output_type": "stream",
     "text": [
      "23/02/18 00:24:05 WARN Utils: Your hostname, Chaturvedi_PC resolves to a loopback address: 127.0.1.1; using 172.28.61.13 instead (on interface eth0)\n",
      "23/02/18 00:24:05 WARN Utils: Set SPARK_LOCAL_IP if you need to bind to another address\n",
      "23/02/18 00:24:06 WARN NativeCodeLoader: Unable to load native-hadoop library for your platform... using builtin-java classes where applicable\n",
      "Using Spark's default log4j profile: org/apache/spark/log4j-defaults.properties\n",
      "Setting default log level to \"WARN\".\n",
      "To adjust logging level use sc.setLogLevel(newLevel). For SparkR, use setLogLevel(newLevel).\n"
     ]
    }
   ],
   "source": [
    "from pyspark.sql import SparkSession\n",
    "from pyspark.sql import functions as f\n",
    "\n",
    "\n",
    "spark = SparkSession.builder.appName('SparkByExamples.com')\\\n",
    "    .config('spark.driver.bindAddress','localhost')\\\n",
    "    .config(\"spark.ui.port\",\"4051\")\\\n",
    "    .config(\"spark.driver.memory\",\"5g\")\\\n",
    "    .getOrCreate()"
   ]
  },
  {
   "cell_type": "code",
   "execution_count": 2,
   "id": "15e2fe5f",
   "metadata": {},
   "outputs": [],
   "source": [
    "test_path = \"/home/abhay/work/dream11/model_data/model_oututs/test\"\n",
    "train_path = \"/home/abhay/work/dream11/model_data/model_oututs/train\""
   ]
  },
  {
   "cell_type": "code",
   "execution_count": 6,
   "id": "046ad4e3",
   "metadata": {},
   "outputs": [
    {
     "name": "stderr",
     "output_type": "stream",
     "text": [
      "                                                                                \r"
     ]
    }
   ],
   "source": [
    "test_df = spark.read.parquet(test_path)\n",
    "test_df.registerTempTable(\"test_preds\")"
   ]
  },
  {
   "cell_type": "code",
   "execution_count": 27,
   "id": "cca40dbe",
   "metadata": {},
   "outputs": [],
   "source": [
    "rank_comparison_df = spark.sql(\"\"\"\n",
    "with actual_ranks as (\n",
    "    select player_id, match_id, \n",
    "        fantasy_points, rank() over(partition by match_id order by fantasy_points desc) as actual_rank\n",
    "    from test_preds\n",
    ")\n",
    ", predicted_ranks as  (\n",
    "    select player_id, match_id, \n",
    "         prediction, rank() over(partition by match_id order by prediction desc) as predicted_rank\n",
    "    from test_preds\n",
    ")\n",
    "select actual_ranks.player_id, actual_ranks.match_id, actual_ranks.fantasy_points, actual_ranks.actual_rank, \n",
    "    predicted_ranks.prediction, predicted_ranks.predicted_rank\n",
    "from actual_ranks as actual_ranks \n",
    "inner join predicted_ranks as predicted_ranks\n",
    "where actual_ranks.player_id = predicted_ranks.player_id \n",
    "and actual_ranks.match_id = predicted_ranks.match_id \n",
    "\"\"\")\n",
    "rank_comparison_df.registerTempTable(\"compared_ranks\")"
   ]
  },
  {
   "cell_type": "code",
   "execution_count": 28,
   "id": "6cc476d1",
   "metadata": {},
   "outputs": [
    {
     "name": "stderr",
     "output_type": "stream",
     "text": [
      "                                                                                \r"
     ]
    },
    {
     "data": {
      "text/html": [
       "<div>\n",
       "<style scoped>\n",
       "    .dataframe tbody tr th:only-of-type {\n",
       "        vertical-align: middle;\n",
       "    }\n",
       "\n",
       "    .dataframe tbody tr th {\n",
       "        vertical-align: top;\n",
       "    }\n",
       "\n",
       "    .dataframe thead th {\n",
       "        text-align: right;\n",
       "    }\n",
       "</style>\n",
       "<table border=\"1\" class=\"dataframe\">\n",
       "  <thead>\n",
       "    <tr style=\"text-align: right;\">\n",
       "      <th></th>\n",
       "      <th>player_id</th>\n",
       "      <th>match_id</th>\n",
       "      <th>fantasy_points</th>\n",
       "      <th>actual_rank</th>\n",
       "      <th>prediction</th>\n",
       "      <th>predicted_rank</th>\n",
       "    </tr>\n",
       "  </thead>\n",
       "  <tbody>\n",
       "    <tr>\n",
       "      <th>0</th>\n",
       "      <td>12b610c2</td>\n",
       "      <td>1001349</td>\n",
       "      <td>37</td>\n",
       "      <td>7</td>\n",
       "      <td>38.492119</td>\n",
       "      <td>7</td>\n",
       "    </tr>\n",
       "    <tr>\n",
       "      <th>1</th>\n",
       "      <td>14f96089</td>\n",
       "      <td>1001349</td>\n",
       "      <td>54</td>\n",
       "      <td>5</td>\n",
       "      <td>45.702792</td>\n",
       "      <td>6</td>\n",
       "    </tr>\n",
       "    <tr>\n",
       "      <th>2</th>\n",
       "      <td>32198ae0</td>\n",
       "      <td>1001349</td>\n",
       "      <td>23</td>\n",
       "      <td>11</td>\n",
       "      <td>23.892199</td>\n",
       "      <td>11</td>\n",
       "    </tr>\n",
       "    <tr>\n",
       "      <th>3</th>\n",
       "      <td>469ea22b</td>\n",
       "      <td>1001349</td>\n",
       "      <td>29</td>\n",
       "      <td>8</td>\n",
       "      <td>31.392281</td>\n",
       "      <td>8</td>\n",
       "    </tr>\n",
       "    <tr>\n",
       "      <th>4</th>\n",
       "      <td>5748e866</td>\n",
       "      <td>1001349</td>\n",
       "      <td>18</td>\n",
       "      <td>14</td>\n",
       "      <td>9.596771</td>\n",
       "      <td>14</td>\n",
       "    </tr>\n",
       "    <tr>\n",
       "      <th>...</th>\n",
       "      <td>...</td>\n",
       "      <td>...</td>\n",
       "      <td>...</td>\n",
       "      <td>...</td>\n",
       "      <td>...</td>\n",
       "      <td>...</td>\n",
       "    </tr>\n",
       "    <tr>\n",
       "      <th>95</th>\n",
       "      <td>1e182ae2</td>\n",
       "      <td>1003847</td>\n",
       "      <td>29</td>\n",
       "      <td>10</td>\n",
       "      <td>31.165446</td>\n",
       "      <td>7</td>\n",
       "    </tr>\n",
       "    <tr>\n",
       "      <th>96</th>\n",
       "      <td>27ca3a11</td>\n",
       "      <td>1003847</td>\n",
       "      <td>36</td>\n",
       "      <td>5</td>\n",
       "      <td>30.346233</td>\n",
       "      <td>10</td>\n",
       "    </tr>\n",
       "    <tr>\n",
       "      <th>97</th>\n",
       "      <td>2f873ad6</td>\n",
       "      <td>1003847</td>\n",
       "      <td>3</td>\n",
       "      <td>16</td>\n",
       "      <td>3.641405</td>\n",
       "      <td>15</td>\n",
       "    </tr>\n",
       "    <tr>\n",
       "      <th>98</th>\n",
       "      <td>42172c3c</td>\n",
       "      <td>1003847</td>\n",
       "      <td>102</td>\n",
       "      <td>1</td>\n",
       "      <td>81.368358</td>\n",
       "      <td>1</td>\n",
       "    </tr>\n",
       "    <tr>\n",
       "      <th>99</th>\n",
       "      <td>710dd98c</td>\n",
       "      <td>1003847</td>\n",
       "      <td>36</td>\n",
       "      <td>5</td>\n",
       "      <td>30.519708</td>\n",
       "      <td>9</td>\n",
       "    </tr>\n",
       "  </tbody>\n",
       "</table>\n",
       "<p>100 rows × 6 columns</p>\n",
       "</div>"
      ],
      "text/plain": [
       "   player_id match_id  fantasy_points  actual_rank  prediction  predicted_rank\n",
       "0   12b610c2  1001349              37            7   38.492119               7\n",
       "1   14f96089  1001349              54            5   45.702792               6\n",
       "2   32198ae0  1001349              23           11   23.892199              11\n",
       "3   469ea22b  1001349              29            8   31.392281               8\n",
       "4   5748e866  1001349              18           14    9.596771              14\n",
       "..       ...      ...             ...          ...         ...             ...\n",
       "95  1e182ae2  1003847              29           10   31.165446               7\n",
       "96  27ca3a11  1003847              36            5   30.346233              10\n",
       "97  2f873ad6  1003847               3           16    3.641405              15\n",
       "98  42172c3c  1003847             102            1   81.368358               1\n",
       "99  710dd98c  1003847              36            5   30.519708               9\n",
       "\n",
       "[100 rows x 6 columns]"
      ]
     },
     "execution_count": 28,
     "metadata": {},
     "output_type": "execute_result"
    }
   ],
   "source": [
    "# preview joined data\n",
    "spark.sql(\"\"\"\n",
    "    select * from compared_ranks order by match_id, player_id, actual_rank\n",
    "\"\"\").limit(100).toPandas()"
   ]
  },
  {
   "cell_type": "code",
   "execution_count": 31,
   "id": "1c95ebd2",
   "metadata": {},
   "outputs": [
    {
     "name": "stderr",
     "output_type": "stream",
     "text": [
      "                                                                                ]\r"
     ]
    },
    {
     "data": {
      "text/html": [
       "<div>\n",
       "<style scoped>\n",
       "    .dataframe tbody tr th:only-of-type {\n",
       "        vertical-align: middle;\n",
       "    }\n",
       "\n",
       "    .dataframe tbody tr th {\n",
       "        vertical-align: top;\n",
       "    }\n",
       "\n",
       "    .dataframe thead th {\n",
       "        text-align: right;\n",
       "    }\n",
       "</style>\n",
       "<table border=\"1\" class=\"dataframe\">\n",
       "  <thead>\n",
       "    <tr style=\"text-align: right;\">\n",
       "      <th></th>\n",
       "      <th>(CAST(scalarsubquery() AS DOUBLE) / CAST(scalarsubquery() AS DOUBLE))</th>\n",
       "    </tr>\n",
       "  </thead>\n",
       "  <tbody>\n",
       "    <tr>\n",
       "      <th>0</th>\n",
       "      <td>0.878581</td>\n",
       "    </tr>\n",
       "  </tbody>\n",
       "</table>\n",
       "</div>"
      ],
      "text/plain": [
       "   (CAST(scalarsubquery() AS DOUBLE) / CAST(scalarsubquery() AS DOUBLE))\n",
       "0                                           0.878581                    "
      ]
     },
     "execution_count": 31,
     "metadata": {},
     "output_type": "execute_result"
    }
   ],
   "source": [
    "# compare probability of model giving correct top 11 players\n",
    "spark.sql(\"\"\"\n",
    "    select\n",
    "        (select count(*) from compared_ranks where actual_rank <12 and predicted_rank < 12)/(select count(*) from compared_ranks where actual_rank <12)\n",
    "\"\"\").toPandas()"
   ]
  },
  {
   "cell_type": "code",
   "execution_count": 32,
   "id": "188516c7",
   "metadata": {},
   "outputs": [
    {
     "name": "stderr",
     "output_type": "stream",
     "text": [
      "                                                                                ]\r"
     ]
    },
    {
     "data": {
      "text/html": [
       "<div>\n",
       "<style scoped>\n",
       "    .dataframe tbody tr th:only-of-type {\n",
       "        vertical-align: middle;\n",
       "    }\n",
       "\n",
       "    .dataframe tbody tr th {\n",
       "        vertical-align: top;\n",
       "    }\n",
       "\n",
       "    .dataframe thead th {\n",
       "        text-align: right;\n",
       "    }\n",
       "</style>\n",
       "<table border=\"1\" class=\"dataframe\">\n",
       "  <thead>\n",
       "    <tr style=\"text-align: right;\">\n",
       "      <th></th>\n",
       "      <th>(CAST(scalarsubquery() AS DOUBLE) / CAST(scalarsubquery() AS DOUBLE))</th>\n",
       "    </tr>\n",
       "  </thead>\n",
       "  <tbody>\n",
       "    <tr>\n",
       "      <th>0</th>\n",
       "      <td>0.579978</td>\n",
       "    </tr>\n",
       "  </tbody>\n",
       "</table>\n",
       "</div>"
      ],
      "text/plain": [
       "   (CAST(scalarsubquery() AS DOUBLE) / CAST(scalarsubquery() AS DOUBLE))\n",
       "0                                           0.579978                    "
      ]
     },
     "execution_count": 32,
     "metadata": {},
     "output_type": "execute_result"
    }
   ],
   "source": [
    "# compare probability of model giving correct top 2 players, helpful in choosing captain and vice captain\n",
    "spark.sql(\"\"\"\n",
    "    select\n",
    "        (select count(*) from compared_ranks where actual_rank <3 and predicted_rank < 3)/(select count(*) from compared_ranks where actual_rank <3)\n",
    "\"\"\").toPandas()"
   ]
  },
  {
   "cell_type": "code",
   "execution_count": 34,
   "id": "276ad24d",
   "metadata": {},
   "outputs": [
    {
     "name": "stderr",
     "output_type": "stream",
     "text": [
      "                                                                                \r"
     ]
    },
    {
     "data": {
      "text/html": [
       "<div>\n",
       "<style scoped>\n",
       "    .dataframe tbody tr th:only-of-type {\n",
       "        vertical-align: middle;\n",
       "    }\n",
       "\n",
       "    .dataframe tbody tr th {\n",
       "        vertical-align: top;\n",
       "    }\n",
       "\n",
       "    .dataframe thead th {\n",
       "        text-align: right;\n",
       "    }\n",
       "</style>\n",
       "<table border=\"1\" class=\"dataframe\">\n",
       "  <thead>\n",
       "    <tr style=\"text-align: right;\">\n",
       "      <th></th>\n",
       "      <th>ndcg</th>\n",
       "    </tr>\n",
       "  </thead>\n",
       "  <tbody>\n",
       "    <tr>\n",
       "      <th>0</th>\n",
       "      <td>0.923678</td>\n",
       "    </tr>\n",
       "  </tbody>\n",
       "</table>\n",
       "</div>"
      ],
      "text/plain": [
       "       ndcg\n",
       "0  0.923678"
      ]
     },
     "execution_count": 34,
     "metadata": {},
     "output_type": "execute_result"
    }
   ],
   "source": [
    "spark.sql(\"\"\"\n",
    "with gain_matrix as (\n",
    "    select\n",
    "        match_id, player_id, \n",
    "        fantasy_points/log2(actual_rank + 1) as ideal_discounted_gain, \n",
    "        prediction/log2(predicted_rank + 1) as discounted_gain from compared_ranks\n",
    ")\n",
    "select sum(discounted_gain)/sum(ideal_discounted_gain) as ndcg from gain_matrix\n",
    "\"\"\").toPandas()"
   ]
  },
  {
   "cell_type": "code",
   "execution_count": null,
   "id": "e043b7a1",
   "metadata": {},
   "outputs": [],
   "source": []
  }
 ],
 "metadata": {
  "kernelspec": {
   "display_name": "Python 3 (ipykernel)",
   "language": "python",
   "name": "python3"
  },
  "language_info": {
   "codemirror_mode": {
    "name": "ipython",
    "version": 3
   },
   "file_extension": ".py",
   "mimetype": "text/x-python",
   "name": "python",
   "nbconvert_exporter": "python",
   "pygments_lexer": "ipython3",
   "version": "3.9.16"
  }
 },
 "nbformat": 4,
 "nbformat_minor": 5
}
