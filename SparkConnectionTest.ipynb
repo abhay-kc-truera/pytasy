{
 "cells": [
  {
   "cell_type": "code",
   "execution_count": 7,
   "id": "97542e13",
   "metadata": {},
   "outputs": [],
   "source": [
    "query = \"\"\"\n",
    "with base_data as (\n",
    "  select * from all_matches WHERE dt > '2016-12-03' AND dt < '2021-11-07'  AND match_type = 'T20'\n",
    "), dismissals as (\n",
    "  select sum(\"is_wicket\") as dismissal_count from base_data\n",
    ")\n",
    "SELECT\n",
    "  sum(\"batter_runs\")*100.0/sum(\"delivery_count\") as strike_rate,\n",
    "  sum(\"batter_runs\")*1.0/(SELECT sum(dismissal_count) from dismissals) as average\n",
    "from base_data\n",
    "\"\"\""
   ]
  },
  {
   "cell_type": "code",
   "execution_count": 2,
   "id": "5b5b42eb",
   "metadata": {},
   "outputs": [
    {
     "name": "stderr",
     "output_type": "stream",
     "text": [
      "23/02/11 21:49:09 WARN Utils: Your hostname, Chaturvedi_PC resolves to a loopback address: 127.0.1.1; using 172.27.69.129 instead (on interface eth0)\n",
      "23/02/11 21:49:09 WARN Utils: Set SPARK_LOCAL_IP if you need to bind to another address\n",
      "23/02/11 21:49:11 WARN NativeCodeLoader: Unable to load native-hadoop library for your platform... using builtin-java classes where applicable\n",
      "Using Spark's default log4j profile: org/apache/spark/log4j-defaults.properties\n",
      "Setting default log level to \"WARN\".\n",
      "To adjust logging level use sc.setLogLevel(newLevel). For SparkR, use setLogLevel(newLevel).\n"
     ]
    }
   ],
   "source": [
    "from typing import List\n",
    "from pyspark import Row\n",
    "from pyspark.sql import SparkSession, DataFrame\n",
    "from etl.commons.stats_helper import map_player_match_for_training, sequential_player_match_for_training\n",
    "from etl.commons.training_record_schema import training_record_schema\n",
    "from etl.datawriter import write_dataframe\n",
    "\n",
    "spark = SparkSession.builder.appName('SparkByExamples.com').config('spark.driver.bindAddress','localhost').config(\"spark.ui.port\",\"4051\").config(\"spark.driver.memory\",\"3g\").getOrCreate()"
   ]
  },
  {
   "cell_type": "code",
   "execution_count": 3,
   "id": "a5ae3385",
   "metadata": {},
   "outputs": [
    {
     "name": "stderr",
     "output_type": "stream",
     "text": [
      "23/02/11 21:49:21 WARN package: Truncated the string representation of a plan since it was too large. This behavior can be adjusted by setting 'spark.sql.debug.maxToStringFields'.\n"
     ]
    }
   ],
   "source": [
    "spark.read.parquet(\"processed_output/delivery_parquet\").registerTempTable(\"all_matches\")"
   ]
  },
  {
   "cell_type": "code",
   "execution_count": 11,
   "id": "9c0c5f82",
   "metadata": {},
   "outputs": [
    {
     "data": {
      "text/plain": [
       "[Row(x=2),\n",
       " Row(x=2),\n",
       " Row(x=2),\n",
       " Row(x=2),\n",
       " Row(x=2),\n",
       " Row(x=2),\n",
       " Row(x=2),\n",
       " Row(x=2),\n",
       " Row(x=2),\n",
       " Row(x=2)]"
      ]
     },
     "execution_count": 11,
     "metadata": {},
     "output_type": "execute_result"
    }
   ],
   "source": [
    "spark.sql(\"select 1+1 as x from all_matches limit 10\").collect()"
   ]
  },
  {
   "cell_type": "code",
   "execution_count": null,
   "id": "330cc2d6",
   "metadata": {},
   "outputs": [],
   "source": []
  }
 ],
 "metadata": {
  "kernelspec": {
   "display_name": "Python 3 (ipykernel)",
   "language": "python",
   "name": "python3"
  },
  "language_info": {
   "codemirror_mode": {
    "name": "ipython",
    "version": 3
   },
   "file_extension": ".py",
   "mimetype": "text/x-python",
   "name": "python",
   "nbconvert_exporter": "python",
   "pygments_lexer": "ipython3",
   "version": "3.9.16"
  }
 },
 "nbformat": 4,
 "nbformat_minor": 5
}
