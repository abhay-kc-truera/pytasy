{
 "cells": [
  {
   "cell_type": "code",
   "execution_count": 1,
   "id": "5b5b42eb",
   "metadata": {},
   "outputs": [
    {
     "name": "stderr",
     "output_type": "stream",
     "text": [
      "23/02/12 10:03:11 WARN Utils: Your hostname, Chaturvedi_PC resolves to a loopback address: 127.0.1.1; using 172.27.64.6 instead (on interface eth0)\n",
      "23/02/12 10:03:11 WARN Utils: Set SPARK_LOCAL_IP if you need to bind to another address\n",
      "23/02/12 10:03:12 WARN NativeCodeLoader: Unable to load native-hadoop library for your platform... using builtin-java classes where applicable\n",
      "Using Spark's default log4j profile: org/apache/spark/log4j-defaults.properties\n",
      "Setting default log level to \"WARN\".\n",
      "To adjust logging level use sc.setLogLevel(newLevel). For SparkR, use setLogLevel(newLevel).\n"
     ]
    }
   ],
   "source": [
    "from pyspark.sql import SparkSession, DataFrame\n",
    "\n",
    "spark = SparkSession.builder.appName('SparkByExamples.com').config('spark.driver.bindAddress','localhost').config(\"spark.ui.port\",\"4051\").config(\"spark.driver.memory\",\"3g\").getOrCreate()"
   ]
  },
  {
   "cell_type": "code",
   "execution_count": 25,
   "id": "a5ae3385",
   "metadata": {},
   "outputs": [
    {
     "name": "stderr",
     "output_type": "stream",
     "text": [
      "                                                                                \r"
     ]
    }
   ],
   "source": [
    "from pyspark.sql import functions as f\n",
    "\n",
    "t20_df_with_boundaries = spark.read.parquet(\"processed_output/delivery_parquet\")\\\n",
    "    .where(f.col('match_type') == 'T20') \\\n",
    "    .where(f.col('dt') > '2023-01-15') \\\n",
    "    .withColumn('is_boundary', f.when((f.col('batter_runs') >= 4) & (f.col(\"batter_runs\") < 6), 1).otherwise(0)) \\\n",
    "    .withColumn('is_six', f.when(f.col(\"batter_runs\") >= 6, 1).otherwise(0)) \\\n",
    "    .withColumn('is_dismissed', f.when(f.col(\"wicket_player_id\") == f.col(\"batter_id\"), 1).otherwise(0))"
   ]
  },
  {
   "cell_type": "code",
   "execution_count": 26,
   "id": "9c0c5f82",
   "metadata": {},
   "outputs": [],
   "source": [
    "batter_relevant_dimensions = [\"match_id\", \"dt\", \"venue_name\", \"batter_name\", \"batter_id\"] \n",
    "batter_relevant_metrics = [\"batter_runs\",\"is_dismissed\", \"is_boundary\", \"is_six\"]\n",
    "t20_batter_delivery_df = t20_df_with_boundaries.select(batter_relevant_dimensions+batter_relevant_metrics)"
   ]
  },
  {
   "cell_type": "code",
   "execution_count": 27,
   "id": "330cc2d6",
   "metadata": {},
   "outputs": [],
   "source": [
    "from pyspark.sql.functions import sum, count\n",
    "t20_batter_match_df  = t20_batter_delivery_df.groupBy(batter_relevant_dimensions) \\\n",
    "    .agg(\n",
    "        sum(\"batter_runs\").alias(\"batter_run_sum\"),\n",
    "        sum(\"is_dismissed\").alias(\"dismissals\"),\n",
    "        sum(\"is_boundary\").alias(\"boundary_count\"),\n",
    "        sum(\"is_six\").alias(\"six_count\"),\n",
    "        count(\"batter_id\").alias(\"deliveries\")\n",
    "    )"
   ]
  },
  {
   "cell_type": "code",
   "execution_count": null,
   "id": "dd39e1ec",
   "metadata": {},
   "outputs": [],
   "source": []
  }
 ],
 "metadata": {
  "kernelspec": {
   "display_name": "Python 3 (ipykernel)",
   "language": "python",
   "name": "python3"
  },
  "language_info": {
   "codemirror_mode": {
    "name": "ipython",
    "version": 3
   },
   "file_extension": ".py",
   "mimetype": "text/x-python",
   "name": "python",
   "nbconvert_exporter": "python",
   "pygments_lexer": "ipython3",
   "version": "3.9.16"
  }
 },
 "nbformat": 4,
 "nbformat_minor": 5
}
